{
 "cells": [
  {
   "cell_type": "code",
   "execution_count": 1,
   "metadata": {},
   "outputs": [],
   "source": [
    "import json\n",
    "import numpy as np\n",
    "from sklearn.preprocessing import minmax_scale\n",
    "from sklearn.preprocessing import MinMaxScaler\n",
    "with open('flag_maximal_change_data.json') as make_file:\n",
    "    org_data = json.load(make_file)\n",
    "with open('alphapose-results_0219-fast-421-id.json') as make_file1:\n",
    "    alp_org_data = json.load(make_file1)"
   ]
  },
  {
   "cell_type": "code",
   "execution_count": null,
   "metadata": {},
   "outputs": [],
   "source": []
  },
  {
   "cell_type": "code",
   "execution_count": 2,
   "metadata": {},
   "outputs": [
    {
     "name": "stdout",
     "output_type": "stream",
     "text": [
      "[139, 1, 0.377371, [428.961, 170.275, 1, 429.538, 167.952, 1, 432.429, 167.385, 1, 434.162, 166.81, 1, 440.518, 165.078, 1, 440.511, 177.771, 1, 443.974, 178.344, 1, 436.478, 196.826, 1, 433.017, 200.877, 1, 430.114, 216.461, 1, 422.616, 212.419, 1, 446.281, 221.08, 1, 448.593, 220.503, 1, 447.447, 254.573, 1, 449.747, 253.993, 1, 454.948, 288.65, 1, 454.951, 286.912, 1]]\n"
     ]
    }
   ],
   "source": [
    "op_list = []\n",
    "for i in range(len(org_data)):\n",
    "    op_list.append(org_data[i]['image_id'])\n",
    "    op_list.append(org_data[i]['category_id'])\n",
    "    op_list.append(org_data[i]['score'])\n",
    "    op_list.append(org_data[i]['keypoints'])\n",
    "\n",
    "\n",
    "op_list = np.array(op_list)\n",
    "op_list = op_list.reshape(-1, 4)\n",
    "op_list = op_list.tolist()\n",
    "print(op_list[0])"
   ]
  },
  {
   "cell_type": "code",
   "execution_count": 3,
   "metadata": {},
   "outputs": [
    {
     "data": {
      "text/plain": [
       "'\\nmatching_results_np = np.array(ap_list)\\nscore_col = []\\nfor i in range(len(matching_results_np)):\\n    score_col.append(matching_results_np[i][2])\\n#minmax_matching = minmax_scale(score_col, axis = 0, copy = True)\\nscore_col = np.array(score_col)\\nprint(score_col[5])\\nminmax_matching = (score_col - score_col.min(axis =0))/(score_col.max(axis = 0) - score_col.min(axis = 0))\\nprint(minmax_matching[5])\\nmatching_results_np[:][2] = minmax_matching\\nap_list = matching_results_np.tolist()\\n'"
      ]
     },
     "execution_count": 3,
     "metadata": {},
     "output_type": "execute_result"
    }
   ],
   "source": [
    "ap_list = []\n",
    "\n",
    "for i in range(len(alp_org_data)):\n",
    "    ap_list.append(alp_org_data[i]['image_id'])\n",
    "    ap_list.append(alp_org_data[i]['category_id'])\n",
    "    ap_list.append(alp_org_data[i]['score'])\n",
    "    ap_list.append(alp_org_data[i]['keypoints'])\n",
    "ap_list = np.array(ap_list)\n",
    "ap_list = ap_list.reshape(-1, 4)\n",
    "ap_list = ap_list.tolist()\n",
    "\"\"\" # stretch 0 to 3\n",
    "score_col = []\n",
    "for i in range(len(ap_list)):\n",
    "    score_col.append(ap_list[i][2])\n",
    "print(max(score_col))\n",
    "score_col_op = []\n",
    "for i in range(len(op_list)):\n",
    "    score_col_op.append(op_list[i][2])\n",
    "score_col_op = np.array(score_col_op)\n",
    "score_col_op = score_col_op.reshape(-1, 1)\n",
    "scaler = MinMaxScaler(feature_range = (0, max(score_col)))\n",
    "score = scaler.fit_transform(score_col_op)\n",
    "score = score.ravel()\n",
    "for i in range(len(op_list)):\n",
    "    op_list[i][2] = score[i]\n",
    "\"\"\"\n",
    "\n",
    "\n",
    "\"\"\" #normalize\n",
    "matching_results_np = np.array(ap_list)\n",
    "score_col = []\n",
    "for i in range(len(matching_results_np)):\n",
    "    score_col.append(matching_results_np[i][2])\n",
    "#minmax_matching = minmax_scale(score_col, axis = 0, copy = True)\n",
    "score_col = np.array(score_col)\n",
    "print(score_col[5])\n",
    "minmax_matching = (score_col - score_col.min(axis =0))/(score_col.max(axis = 0) - score_col.min(axis = 0))\n",
    "print(minmax_matching[5])\n",
    "matching_results_np[:][2] = minmax_matching\n",
    "ap_list = matching_results_np.tolist()\n",
    "\"\"\""
   ]
  },
  {
   "cell_type": "code",
   "execution_count": 4,
   "metadata": {},
   "outputs": [
    {
     "name": "stdout",
     "output_type": "stream",
     "text": [
      "[139, 1, 0.377371, [428.961, 170.275, 1, 429.538, 167.952, 1, 432.429, 167.385, 1, 434.162, 166.81, 1, 440.518, 165.078, 1, 440.511, 177.771, 1, 443.974, 178.344, 1, 436.478, 196.826, 1, 433.017, 200.877, 1, 430.114, 216.461, 1, 422.616, 212.419, 1, 446.281, 221.08, 1, 448.593, 220.503, 1, 447.447, 254.573, 1, 449.747, 253.993, 1, 454.948, 288.65, 1, 454.951, 286.912, 1]]\n",
      "[139, 1, 0.205915, [397.777, 182.392, 1, 397.775, 180.091, 1, 395.481, 179.507, 1, 398.357, 182.976, 1, 390.836, 180.096, 1, 396.041, 193.364, 1, 385.072, 191.625, 1, 398.357, 203.187, 1, 389.697, 203.186, 1, -1, -1, 0, 397.781, 202.608, 1, 394.897, 222.242, 1, 383.923, 222.238, 1, 398.36, 241.296, 1, 383.924, 247.07, 1, 376.992, 301.346, 1, 382.191, 289.224, 1]]\n",
      "[139, 1, 0.0573157, [621.247, 226.276, 1, 622.416, 224.541, 1, 618.945, 224.553, 1, 627.029, 226.855, 1, 616.62, 226.856, 1, 626.466, 237.831, 1, 612.015, 236.102, 1, 625.892, 247.665, 1, 584.879, 259.772, 1, 624.131, 261.513, 1, -1, -1, 0, 622.989, 260.931, 1, 613.176, 260.35, 1, -1, -1, 0, -1, -1, 0, -1, -1, 0, -1, -1, 0]]\n",
      "[139, 1, 0.0520995, [606.242, 227.435, 1, 607.393, 225.129, 1, 603.926, 225.121, 1, 608.546, 226.279, 1, 602.194, 225.708, 1, 611.434, 234.357, 1, 598.748, 234.37, 1, 613.184, 247.651, 1, 598.741, 247.084, 1, 612.586, 257.467, 1, 607.974, 256.886, 1, 610.281, 256.304, 1, 602.195, 256.306, 1, -1, -1, 0, -1, -1, 0, -1, -1, 0, -1, -1, 0]]\n",
      "[139, 1, 2.4733853340148926, [429.6286926269531, 169.54432678222656, 0.9022530317306519, 429.6286926269531, 166.93585205078125, 0.8956886529922485, 429.6286926269531, 166.93585205078125, 0.7987926602363586, 434.8456726074219, 166.93585205078125, 0.860613226890564, 440.0626220703125, 165.63162231445312, 0.7873189449310303, 440.0626220703125, 176.06553649902344, 0.860558271408081, 441.3668518066406, 177.36976623535156, 0.7458845376968384, 436.14990234375, 198.2375946044922, 0.8434757590293884, 433.5414123535156, 202.1503143310547, 0.7388763427734375, 429.6286926269531, 217.8011932373047, 0.7348716259002686, 420.4990234375, 213.8884735107422, 0.8288421630859375, 446.58380126953125, 223.0181427001953, 0.7090564370155334, 447.8880615234375, 223.0181427001953, 0.6041058301925659, 447.8880615234375, 254.31988525390625, 0.6420820951461792, 446.58380126953125, 254.31988525390625, 0.5545623302459717, 454.40924072265625, 286.9258728027344, 0.6331864595413208, 450.49652099609375, 285.62164306640625, 0.48254621028900146]]\n",
      "[139, 1, 2.2258968353271484, [397.9832458496094, 181.4059295654297, 0.8730071783065796, 397.9832458496094, 179.5182342529297, 0.8242132663726807, 395.718017578125, 179.1407012939453, 0.8667619228363037, 390.0549621582031, 180.65084838867188, 0.1698068082332611, 388.9223327636719, 180.2733154296875, 0.8323414325714111, 396.85064697265625, 193.86468505859375, 0.6945698261260986, 384.01434326171875, 190.4668426513672, 0.565690279006958, 395.718017578125, 208.96620178222656, 0.20874302089214325, 379.8614196777344, 205.94590759277344, 0.2968504726886749, 400.6260070800781, 214.25173950195312, 0.1045440286397934, 381.5603332519531, 215.19558715820312, 0.10698831081390381, 395.1517028808594, 215.19558715820312, 0.22547021508216858, 386.84588623046875, 215.19558715820312, 0.214149609208107, 409.4981689453125, 215.19558715820312, 0.06728354841470718, 408.7430725097656, 215.19558715820312, 0.02520114742219448, 395.90679931640625, 215.19558715820312, 0.058561474084854126, 381.37158203125, 213.4966583251953, 0.03295988216996193]]\n",
      "[785, 1, 3.090395212173462, [368.4598388671875, 79.48624420166016, 0.9457910656929016, 375.2108154296875, 72.73528289794922, 0.9551104307174683, 361.7088928222656, 72.73528289794922, 0.9637264013290405, 388.7127380371094, 76.11076354980469, 0.9343215823173523, 354.9579162597656, 79.48624420166016, 0.9448972940444946, 408.96563720703125, 113.24107360839844, 0.9007513523101807, 361.7088928222656, 126.74299621582031, 0.8880418539047241, 449.471435546875, 160.49781799316406, 0.7690617442131042, 338.08050537109375, 160.49781799316406, 0.8998241424560547, 442.720458984375, 160.49781799316406, 0.7144618630409241, 304.32568359375, 177.37522888183594, 0.9030205011367798, 432.5940246582031, 211.13006591796875, 0.853045642375946, 402.21466064453125, 217.8810272216797, 0.864204466342926, 432.5940246582031, 288.76617431640625, 0.884986400604248, 371.8353271484375, 271.8887634277344, 0.9348565340042114, 473.09979248046875, 359.65130615234375, 0.8565321564674377, 405.59014892578125, 339.3984069824219, 0.864989697933197]]\n"
     ]
    }
   ],
   "source": [
    "ap_list = sorted(ap_list, key = lambda pers:(pers[0], -pers[2]))\n",
    "#ap_list = sorted(ap_list, key = lambda pers:pers[2], reverse = True)\n",
    "op_list = sorted(op_list, key = lambda pers:(pers[0], -pers[2]))\n",
    "#op_list = sorted(op_list, key = lambda pers:pers[2], reverse = True)\n",
    "\n",
    "print(op_list[0])\n",
    "print(op_list[1])\n",
    "print(op_list[2])\n",
    "print(op_list[3])\n",
    "print(ap_list[0])\n",
    "print(ap_list[1])\n",
    "print(ap_list[2])"
   ]
  },
  {
   "cell_type": "code",
   "execution_count": 5,
   "metadata": {
    "scrolled": true
   },
   "outputs": [
    {
     "name": "stdout",
     "output_type": "stream",
     "text": [
      "53696\n"
     ]
    }
   ],
   "source": [
    "import math\n",
    "from numpy import linalg as LA\n",
    "maxx = 0\n",
    "oo_list = []\n",
    "new_arr= []\n",
    "for i in range(len(op_list)):\n",
    "    idx = -1\n",
    "    max_keypoint = []\n",
    "    max_score = 0\n",
    "    maxx = 0\n",
    "    flag = 0\n",
    "    \n",
    "    #print(i)\n",
    "    a_1 = op_list[i][3]\n",
    "\n",
    "    for j in range(len(ap_list)):\n",
    "        a = []\n",
    "        b = []\n",
    "        new_keypoint = []\n",
    "        if ap_list[j][0] == op_list[i][0]:\n",
    "            b_1 = ap_list[j][3]\n",
    "            \n",
    "            for m in range(0, len(a_1), 3):\n",
    "                \n",
    "                if a_1[m] == -1 and b_1[m] != -1:\n",
    "                    a = np.append(a, b_1[m])\n",
    "                    a = np.append(a,b_1[m+1])\n",
    "                    b = np.append(b, b_1[m])\n",
    "                    b = np.append(b,b_1[m+1])\n",
    "                elif a_1[m] != -1 and b_1[m]== -1:\n",
    "                    a = np.append(a, a_1[m])\n",
    "                    a = np.append(a,a_1[m+1])\n",
    "                    b = np.append(b, a_1[m])\n",
    "                    b = np.append(b,a_1[m+1])\n",
    "                elif a_1[m] == -1 and b_1[m] == -1:\n",
    "                    continue\n",
    "                else:\n",
    "                    a = np.append(a, a_1[m])\n",
    "                    a = np.append(a,a_1[m+1])\n",
    "                    b = np.append(b, b_1[m])\n",
    "                    b = np.append(b,b_1[m+1])\n",
    "            #print(ap_list[j])\n",
    "            #print(\"a: \", a)\n",
    "            #print(\"b: \", b)\n",
    "            d = np.dot(a, b)\n",
    "            cos_sim = d / (LA.norm(a) * LA.norm(b))\n",
    "            if cos_sim > maxx  :\n",
    "                \n",
    "                maxx = cos_sim\n",
    "                weight_op = op_list[i][2]\n",
    "                weight_ap = ap_list[j][2]\n",
    "                weight_a = weight_ap / (weight_op + weight_ap)\n",
    "                weight_o = weight_op / (weight_op + weight_ap)\n",
    "                if maxx > 0:\n",
    "                    idx = j\n",
    "                    for k in range(len(ap_list[j][3])):\n",
    "                        val_o = 0\n",
    "                        val_a = 0\n",
    "                        val = 0\n",
    "                        \n",
    "                        if ap_list[j][3][k] == -1 and op_list[i][3][k] != -1:\n",
    "                            val = op_list[i][3][k]\n",
    "                        elif ap_list[j][3][k] != -1 and op_list[i][3][k] == -1:\n",
    "                            val = ap_list[j][3][k]\n",
    "                        elif ap_list[j][3][k] == -1 and op_list[i][3][k] == -1:\n",
    "                            val = -1\n",
    "                            if  (k+1) %3 ==0:\n",
    "                                val = 0\n",
    "                        else:\n",
    "                            val_o = op_list[i][3][k] * weight_o\n",
    "                            val_a = ap_list[j][3][k] *weight_a\n",
    "                            val = val_o + val_a\n",
    "                        if (k+1) %3 ==0:\n",
    "                            val = 1\n",
    "                        new_keypoint.append( val )\n",
    "                    max_keypoint = new_keypoint\n",
    "                    max_score = op_list[i][2] * weight_o + ap_list[j][2] * weight_a\n",
    "\n",
    "\n",
    "    if len(max_keypoint)!=0:\n",
    "        new_arr.append(op_list[i][0])\n",
    "        new_arr.append(1)\n",
    "        new_arr.append(max_score)\n",
    "        new_arr.append(max_keypoint)\n",
    "    else:\n",
    "        oo_list.append(op_list[i])\n",
    "    if idx != -1:\n",
    "        del(ap_list[idx])\n",
    "        #del(op_list[i])\n",
    "        idx = -1\n",
    "print(len(new_arr))\n"
   ]
  },
  {
   "cell_type": "code",
   "execution_count": 6,
   "metadata": {},
   "outputs": [
    {
     "name": "stdout",
     "output_type": "stream",
     "text": [
      "53696\n",
      "139\n",
      "53696\n",
      "{'image_id': 139, 'category_id': 1, 'score': 2.1959238702609714, 'keypoints': [429.54030631651347, 169.6410501954395, 1, 429.6166871226883, 167.070365394896, 1, 429.9993854080459, 166.99530834619387, 1, 434.75517093512633, 166.9191922915136, 1, 440.12290306404515, 165.55833614687202, 1, 440.1219764338142, 176.29129850440697, 1, 441.7119749969803, 177.49873115796257, 1, 436.1933345161736, 198.05073371388016, 1, 433.4719928763413, 201.98175839497168, 1, 429.6929355531158, 217.6237841560302, 1, 420.779259791914, 213.69395085666415, 1, 446.5437177252027, 222.761579611941, 1, 447.9813782810518, 222.68519880576616, 1, 447.82967567468035, 254.35339150756545, 1, 447.00253206524064, 254.27661357414883, 1, 454.4805593845932, 287.154105428861, 1, 451.08618598293447, 285.7924550297358, 1]}\n",
      "13424\n"
     ]
    }
   ],
   "source": [
    "print(len(new_arr))\n",
    "print(new_arr[0])\n",
    "\n",
    "#apop_new_arr = newarr_1.append(op_list)\n",
    "new_arr_1 = np.array(new_arr)\n",
    "new_arr_1 = new_arr_1.reshape(-1, 4)\n",
    "new_arr_1 = sorted(new_arr_1, key = lambda pers:(pers[0], -pers[2]))\n",
    "#new_arr_1 = new_arr_1.tolist()\n",
    "\n",
    "whole_list= []\n",
    "for i in range(len(new_arr_1)):\n",
    "    line_dic = {}\n",
    "    line_dic[\"image_id\"] = int(new_arr_1[i][0])\n",
    "    line_dic[\"category_id\"] = int(new_arr_1[i][1])\n",
    "    line_dic[\"score\"] = float(new_arr_1[i][2])\n",
    "    line_dic[\"keypoints\"] = new_arr_1[i][3]\n",
    "\n",
    "    whole_list.append(line_dic)\n",
    "    \n",
    "print(len(new_arr))\n",
    "print(whole_list[0])\n",
    "print(len(whole_list))"
   ]
  },
  {
   "cell_type": "code",
   "execution_count": 7,
   "metadata": {},
   "outputs": [
    {
     "name": "stdout",
     "output_type": "stream",
     "text": [
      "{'image_id': 139, 'category_id': 1, 'score': 2.054853766295685, 'keypoints': [397.9657818692531, 181.489425619929, 1, 397.96561251815695, 179.56673350648813, 1, 395.6979479847911, 179.17171783764394, 1, 390.7579417626936, 180.8477318757457, 1, 389.08437358576344, 180.25830114849447, 1, 396.7820896714898, 193.82228927683852, 1, 384.10390092572027, 190.56491025963328, 1, 395.9414748610884, 208.47684470381301, 1, 380.69425283227275, 205.71221090468674, 1, 400.6260070800781, 214.25173950195312, 1, 382.93382709917535, 214.12972631649342, 1, 395.1301357748233, 215.79224602762727, 1, 386.59838923690876, 215.79190732543492, 1, 408.55503838518615, 217.40565392087086, 1, 406.64150394199817, 217.89457053552334, 1, 394.30517831733994, 222.49042058347595, 1, 381.440966696866, 219.90891248665662, 1]}\n"
     ]
    }
   ],
   "source": [
    "print(whole_list[1])\n",
    "with open('testing_the_new_theory_ao.json', 'w') as make_file:\n",
    "    make_file.write(json.dumps(whole_list))"
   ]
  },
  {
   "cell_type": "code",
   "execution_count": null,
   "metadata": {},
   "outputs": [],
   "source": []
  },
  {
   "cell_type": "code",
   "execution_count": null,
   "metadata": {},
   "outputs": [],
   "source": []
  },
  {
   "cell_type": "code",
   "execution_count": null,
   "metadata": {},
   "outputs": [],
   "source": []
  },
  {
   "cell_type": "code",
   "execution_count": null,
   "metadata": {},
   "outputs": [],
   "source": []
  },
  {
   "cell_type": "code",
   "execution_count": null,
   "metadata": {},
   "outputs": [],
   "source": []
  },
  {
   "cell_type": "code",
   "execution_count": null,
   "metadata": {},
   "outputs": [],
   "source": []
  },
  {
   "cell_type": "raw",
   "metadata": {},
   "source": []
  },
  {
   "cell_type": "code",
   "execution_count": null,
   "metadata": {},
   "outputs": [],
   "source": []
  },
  {
   "cell_type": "code",
   "execution_count": null,
   "metadata": {},
   "outputs": [],
   "source": []
  }
 ],
 "metadata": {
  "kernelspec": {
   "display_name": "Python 3",
   "language": "python",
   "name": "python3"
  },
  "language_info": {
   "codemirror_mode": {
    "name": "ipython",
    "version": 3
   },
   "file_extension": ".py",
   "mimetype": "text/x-python",
   "name": "python",
   "nbconvert_exporter": "python",
   "pygments_lexer": "ipython3",
   "version": "3.5.2"
  }
 },
 "nbformat": 4,
 "nbformat_minor": 2
}
