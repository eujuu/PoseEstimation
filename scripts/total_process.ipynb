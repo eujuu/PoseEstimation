{
 "cells": [
  {
   "cell_type": "code",
   "execution_count": 2,
   "metadata": {},
   "outputs": [],
   "source": [
    "import settingfunctions as settings\n",
    "%matplotlib inline\n",
    "import sys\n",
    "sys.path.append('../../../../../../../cocoapi/PythonAPI') # cocoapi path\n",
    "import matplotlib.pyplot as plt\n",
    "from pycocotools.coco import COCO\n",
    "from pycocotools.cocoeval import COCOeval\n",
    "import numpy as np\n",
    "import skimage.io as io\n",
    "import pylab\n",
    "import pandas as pd\n",
    "pylab.rcParams['figure.figsize'] = (10.0, 8.0)\n"
   ]
  },
  {
   "cell_type": "code",
   "execution_count": 2,
   "metadata": {},
   "outputs": [
    {
     "name": "stdout",
     "output_type": "stream",
     "text": [
      "Running demo for *keypoints* results.\n"
     ]
    }
   ],
   "source": [
    "annType = 'keypoints'      #specify type here\n",
    "prefix = 'person_keypoints'\n",
    "print ('Running demo for *%s* results.'%(annType))"
   ]
  },
  {
   "cell_type": "code",
   "execution_count": 3,
   "metadata": {},
   "outputs": [
    {
     "name": "stdout",
     "output_type": "stream",
     "text": [
      "loading annotations into memory...\n",
      "Done (t=0.26s)\n",
      "creating index...\n",
      "index created!\n",
      "<pycocotools.coco.COCO object at 0x7f958c5c0c88>\n"
     ]
    }
   ],
   "source": [
    "import json\n",
    "#initialize COCO ground truth api\n",
    "dataDir='./'\n",
    "dataType='val2017'\n",
    "annFile = '../Data/annotations/person_keypoints_val2017.json'\n",
    "cocoGt=COCO(annFile)\n",
    "print(cocoGt)"
   ]
  },
  {
   "cell_type": "code",
   "execution_count": 4,
   "metadata": {},
   "outputs": [
    {
     "name": "stdout",
     "output_type": "stream",
     "text": [
      "Loading and preparing results...\n",
      "DONE (t=0.25s)\n",
      "creating index...\n",
      "index created!\n"
     ]
    }
   ],
   "source": [
    "#initialize COCO detections api\n",
    "resFile = '../Data/OpenPose/flag_maximal_change_data.json'\n",
    "cocoDt=cocoGt.loadRes(resFile)"
   ]
  },
  {
   "cell_type": "code",
   "execution_count": 5,
   "metadata": {},
   "outputs": [],
   "source": [
    "imgIds = sorted(cocoGt.getImgIds())\n",
    "imgIds = imgIds[0:5000]\n",
    "imgId = imgIds[np.random.randint(5000)]"
   ]
  },
  {
   "cell_type": "code",
   "execution_count": 6,
   "metadata": {},
   "outputs": [
    {
     "name": "stdout",
     "output_type": "stream",
     "text": [
      "Running per image evaluation...\n",
      "Evaluate annotation type *keypoints*\n",
      "DONE (t=3.31s).\n",
      "Accumulating evaluation results...\n",
      "DONE (t=0.07s).\n",
      " Average Precision  (AP) @[ IoU=0.50:0.95 | area=   all | maxDets= 20 ] = 0.490\n",
      " Average Precision  (AP) @[ IoU=0.50      | area=   all | maxDets= 20 ] = 0.742\n",
      " Average Precision  (AP) @[ IoU=0.75      | area=   all | maxDets= 20 ] = 0.520\n",
      " Average Precision  (AP) @[ IoU=0.50:0.95 | area=medium | maxDets= 20 ] = 0.426\n",
      " Average Precision  (AP) @[ IoU=0.50:0.95 | area= large | maxDets= 20 ] = 0.588\n",
      " Average Recall     (AR) @[ IoU=0.50:0.95 | area=   all | maxDets= 20 ] = 0.544\n",
      " Average Recall     (AR) @[ IoU=0.50      | area=   all | maxDets= 20 ] = 0.765\n",
      " Average Recall     (AR) @[ IoU=0.75      | area=   all | maxDets= 20 ] = 0.571\n",
      " Average Recall     (AR) @[ IoU=0.50:0.95 | area=medium | maxDets= 20 ] = 0.442\n",
      " Average Recall     (AR) @[ IoU=0.50:0.95 | area= large | maxDets= 20 ] = 0.688\n"
     ]
    }
   ],
   "source": [
    "cocoEval = COCOeval(cocoGt,cocoDt,annType)\n",
    "cocoEval.params.imgIds  = imgIds\n",
    "cocoEval.params.iouType = 'keypoints'\n",
    "cocoEval.evaluate()\n",
    "\n",
    "cocoEval.accumulate()\n",
    "cocoEval.summarize()"
   ]
  },
  {
   "cell_type": "code",
   "execution_count": 7,
   "metadata": {},
   "outputs": [],
   "source": [
    "# matching obj id and the keypoints\n",
    "matching_results, matching_results_df = settings.set_objid_oks(cocoEval)"
   ]
  },
  {
   "cell_type": "code",
   "execution_count": 8,
   "metadata": {},
   "outputs": [],
   "source": [
    "matching_results_df.to_csv(\"../output/maximize_keypoint.csv\", index = False) #store matching keypoint and gt id"
   ]
  },
  {
   "cell_type": "code",
   "execution_count": 10,
   "metadata": {},
   "outputs": [],
   "source": [
    "op_results = settings.csv2list('../output/maximize_keypoint.csv') #openpose results\n",
    "alp_results = settings.csv2list('../output/alphapose-results_0219-fast-421_alpha-oks-with-keypoints.csv') #alphapose results"
   ]
  },
  {
   "cell_type": "code",
   "execution_count": null,
   "metadata": {},
   "outputs": [],
   "source": []
  },
  {
   "cell_type": "code",
   "execution_count": 11,
   "metadata": {},
   "outputs": [],
   "source": [
    "only_op, same_opap_op, only_ap, same_opap_ap = settings.finding_same_obj(op_results, alp_results, 'maximize') #divide to three group"
   ]
  },
  {
   "cell_type": "code",
   "execution_count": 12,
   "metadata": {},
   "outputs": [],
   "source": [
    "#only_op.to_csv('./maximize_Only_in_OpenPose.csv', index = False)\n",
    "#same_opap_op.to_csv('./maximize_Same_with_APOP_ver_op.csv', index = False)\n",
    "#only_ap.to_csv('./maximize_Only_in_AlphaPose.csv', index = False)\n",
    "#same_opap_ap.to_csv('./maximize_Same_with_APOP_ver_ap.csv', index = False)\n"
   ]
  },
  {
   "cell_type": "code",
   "execution_count": 12,
   "metadata": {},
   "outputs": [],
   "source": [
    "same_AP = settings.csv2list(\"../output/maximize_Same_with_APOP_ver_ap.csv\")# same obj and alphapose keypoints\n",
    "same_OP = settings.csv2list(\"../output/maximize_Same_with_APOP_ver_op.csv\")# same obj and openpose keypoints\n",
    "\n",
    "same_AP = sorted(same_AP, key = lambda pers:pers[0])# sort with image id\n",
    "same_AP = sorted(same_AP, key = lambda pers:pers[1])# sort with obj id\n",
    "same_OP = sorted(same_OP, key = lambda pers:pers[0])\n",
    "same_OP = sorted(same_OP, key = lambda pers:pers[1])"
   ]
  },
  {
   "cell_type": "code",
   "execution_count": 13,
   "metadata": {
    "scrolled": true
   },
   "outputs": [],
   "source": [
    "#combination_list, combination_df = settings.making_product_all(cocoEval,same_OP, same_AP) # make new keypoints"
   ]
  },
  {
   "cell_type": "code",
   "execution_count": 14,
   "metadata": {},
   "outputs": [],
   "source": [
    "\n",
    "#combination_df.to_csv(\"./maximize_comb_of_apop.csv\", index = False)"
   ]
  },
  {
   "cell_type": "code",
   "execution_count": 13,
   "metadata": {},
   "outputs": [],
   "source": [
    "whole_list = settings.list2dict(\"../output/maximize_comb_of_apop.csv\") # setting the format for coco eval\n",
    "with open('../output/maximize_comb_json_file.json', 'w') as make_file:\n",
    "    make_file.write(json.dumps(whole_list))"
   ]
  },
  {
   "cell_type": "code",
   "execution_count": 14,
   "metadata": {},
   "outputs": [
    {
     "name": "stdout",
     "output_type": "stream",
     "text": [
      "5934\n"
     ]
    }
   ],
   "source": [
    "samelist = settings.list2dict('../output/maximize_comb_of_apop.csv')\n",
    "oplist = settings.list2dict('../output/maximize_Only_in_OpenPose.csv')\n",
    "aplist = settings.list2dict('../output/maximize_Only_in_AlphaPose.csv')\n",
    "\n",
    "total_list=[]\n",
    "for i in range(len(samelist)):\n",
    "    total_list.append(samelist[i])\n",
    "for i in range(len(oplist)):\n",
    "    total_list.append(oplist[i])\n",
    "for i in range(len(aplist)):\n",
    "    total_list.append(aplist[i])\n",
    "print(len(total_list))\n",
    "#with open('maximize_total_tuning_list.json', 'w') as make_file:\n",
    "#    make_file.write(json.dumps(total_list))"
   ]
  },
  {
   "cell_type": "code",
   "execution_count": null,
   "metadata": {},
   "outputs": [],
   "source": []
  }
 ],
 "metadata": {
  "kernelspec": {
   "display_name": "Python 3",
   "language": "python",
   "name": "python3"
  },
  "language_info": {
   "codemirror_mode": {
    "name": "ipython",
    "version": 3
   },
   "file_extension": ".py",
   "mimetype": "text/x-python",
   "name": "python",
   "nbconvert_exporter": "python",
   "pygments_lexer": "ipython3",
   "version": "3.5.2"
  }
 },
 "nbformat": 4,
 "nbformat_minor": 2
}
